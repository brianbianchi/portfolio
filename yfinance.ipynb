{
 "cells": [
  {
   "cell_type": "code",
   "execution_count": 22,
   "id": "a0eb87e3-1a69-4db1-9b48-9a21e139586f",
   "metadata": {},
   "outputs": [
    {
     "name": "stdout",
     "output_type": "stream",
     "text": [
      "Requirement already satisfied: yfinance in /Users/brianbianchi/.pyenv/versions/3.11.0/lib/python3.11/site-packages (0.2.50)\n",
      "Requirement already satisfied: pandas>=1.3.0 in /Users/brianbianchi/.pyenv/versions/3.11.0/lib/python3.11/site-packages (from yfinance) (2.2.3)\n",
      "Requirement already satisfied: numpy>=1.16.5 in /Users/brianbianchi/.pyenv/versions/3.11.0/lib/python3.11/site-packages (from yfinance) (2.1.3)\n",
      "Requirement already satisfied: requests>=2.31 in /Users/brianbianchi/.pyenv/versions/3.11.0/lib/python3.11/site-packages (from yfinance) (2.32.3)\n",
      "Requirement already satisfied: multitasking>=0.0.7 in /Users/brianbianchi/.pyenv/versions/3.11.0/lib/python3.11/site-packages (from yfinance) (0.0.11)\n",
      "Requirement already satisfied: lxml>=4.9.1 in /Users/brianbianchi/.pyenv/versions/3.11.0/lib/python3.11/site-packages (from yfinance) (5.3.0)\n",
      "Requirement already satisfied: platformdirs>=2.0.0 in /Users/brianbianchi/.pyenv/versions/3.11.0/lib/python3.11/site-packages (from yfinance) (4.3.6)\n",
      "Requirement already satisfied: pytz>=2022.5 in /Users/brianbianchi/.pyenv/versions/3.11.0/lib/python3.11/site-packages (from yfinance) (2024.2)\n",
      "Requirement already satisfied: frozendict>=2.3.4 in /Users/brianbianchi/.pyenv/versions/3.11.0/lib/python3.11/site-packages (from yfinance) (2.4.6)\n",
      "Requirement already satisfied: peewee>=3.16.2 in /Users/brianbianchi/.pyenv/versions/3.11.0/lib/python3.11/site-packages (from yfinance) (3.17.8)\n",
      "Requirement already satisfied: beautifulsoup4>=4.11.1 in /Users/brianbianchi/.pyenv/versions/3.11.0/lib/python3.11/site-packages (from yfinance) (4.12.3)\n",
      "Requirement already satisfied: html5lib>=1.1 in /Users/brianbianchi/.pyenv/versions/3.11.0/lib/python3.11/site-packages (from yfinance) (1.1)\n",
      "Requirement already satisfied: soupsieve>1.2 in /Users/brianbianchi/.pyenv/versions/3.11.0/lib/python3.11/site-packages (from beautifulsoup4>=4.11.1->yfinance) (2.6)\n",
      "Requirement already satisfied: six>=1.9 in /Users/brianbianchi/.pyenv/versions/3.11.0/lib/python3.11/site-packages (from html5lib>=1.1->yfinance) (1.16.0)\n",
      "Requirement already satisfied: webencodings in /Users/brianbianchi/.pyenv/versions/3.11.0/lib/python3.11/site-packages (from html5lib>=1.1->yfinance) (0.5.1)\n",
      "Requirement already satisfied: python-dateutil>=2.8.2 in /Users/brianbianchi/.pyenv/versions/3.11.0/lib/python3.11/site-packages (from pandas>=1.3.0->yfinance) (2.9.0.post0)\n",
      "Requirement already satisfied: tzdata>=2022.7 in /Users/brianbianchi/.pyenv/versions/3.11.0/lib/python3.11/site-packages (from pandas>=1.3.0->yfinance) (2024.2)\n",
      "Requirement already satisfied: charset-normalizer<4,>=2 in /Users/brianbianchi/.pyenv/versions/3.11.0/lib/python3.11/site-packages (from requests>=2.31->yfinance) (3.4.0)\n",
      "Requirement already satisfied: idna<4,>=2.5 in /Users/brianbianchi/.pyenv/versions/3.11.0/lib/python3.11/site-packages (from requests>=2.31->yfinance) (3.10)\n",
      "Requirement already satisfied: urllib3<3,>=1.21.1 in /Users/brianbianchi/.pyenv/versions/3.11.0/lib/python3.11/site-packages (from requests>=2.31->yfinance) (2.2.3)\n",
      "Requirement already satisfied: certifi>=2017.4.17 in /Users/brianbianchi/.pyenv/versions/3.11.0/lib/python3.11/site-packages (from requests>=2.31->yfinance) (2024.8.30)\n"
     ]
    }
   ],
   "source": [
    "!pip install yfinance"
   ]
  },
  {
   "cell_type": "code",
   "execution_count": 23,
   "id": "bb83f9d9-afdb-46a4-9893-4d5beea18123",
   "metadata": {},
   "outputs": [],
   "source": [
    "import yfinance as yf"
   ]
  },
  {
   "cell_type": "code",
   "execution_count": 36,
   "id": "578976ca-0652-4070-8741-905bf3717c8c",
   "metadata": {},
   "outputs": [
    {
     "data": {
      "text/plain": [
       "'0.2.50'"
      ]
     },
     "execution_count": 36,
     "metadata": {},
     "output_type": "execute_result"
    }
   ],
   "source": [
    "yf.__version__"
   ]
  },
  {
   "cell_type": "code",
   "execution_count": 24,
   "id": "86bf2f6f-ea09-4f45-9055-cbb405206bcf",
   "metadata": {},
   "outputs": [],
   "source": [
    "spy = yf.Ticker('SPY')\n",
    "data = spy.funds_data"
   ]
  },
  {
   "cell_type": "code",
   "execution_count": 25,
   "id": "d345e82a-ae9e-4551-a0ee-e3e0ed96e861",
   "metadata": {},
   "outputs": [
    {
     "data": {
      "text/plain": [
       "{'longBusinessSummary': 'The Trust seeks to achieve its investment objective by holding a portfolio of the common stocks that are included in the index (the “Portfolio”), with the weight of each stock in the Portfolio substantially corresponding to the weight of such stock in the index.',\n",
       " 'maxAge': 86400,\n",
       " 'priceHint': 2,\n",
       " 'previousClose': 594.69,\n",
       " 'open': 596.06,\n",
       " 'dayLow': 595.48,\n",
       " 'dayHigh': 601.34,\n",
       " 'regularMarketPreviousClose': 594.69,\n",
       " 'regularMarketOpen': 596.06,\n",
       " 'regularMarketDayLow': 595.48,\n",
       " 'regularMarketDayHigh': 601.34,\n",
       " 'trailingPE': 27.90342,\n",
       " 'volume': 33160097,\n",
       " 'regularMarketVolume': 33160097,\n",
       " 'averageVolume': 45781335,\n",
       " 'averageVolume10days': 61035010,\n",
       " 'averageDailyVolume10Day': 61035010,\n",
       " 'bid': 601.08,\n",
       " 'ask': 601.1,\n",
       " 'bidSize': 900,\n",
       " 'askSize': 900,\n",
       " 'yield': 0.0116,\n",
       " 'totalAssets': 627773800448,\n",
       " 'fiftyTwoWeekLow': 466.43,\n",
       " 'fiftyTwoWeekHigh': 609.07,\n",
       " 'fiftyDayAverage': 591.6458,\n",
       " 'twoHundredDayAverage': 551.9417,\n",
       " 'trailingAnnualDividendRate': 5.662,\n",
       " 'trailingAnnualDividendYield': 0.009520927,\n",
       " 'navPrice': 594.84656,\n",
       " 'currency': 'USD',\n",
       " 'category': 'Large Blend',\n",
       " 'ytdReturn': 0.2671982,\n",
       " 'beta3Year': 1.0,\n",
       " 'fundFamily': 'SPDR State Street Global Advisors',\n",
       " 'fundInceptionDate': 727660800,\n",
       " 'legalType': 'Exchange Traded Fund',\n",
       " 'threeYearAverageReturn': 0.097132,\n",
       " 'fiveYearAverageReturn': 0.1484815,\n",
       " 'exchange': 'PCX',\n",
       " 'quoteType': 'ETF',\n",
       " 'symbol': 'SPY',\n",
       " 'underlyingSymbol': 'SPY',\n",
       " 'shortName': 'SPDR S&P 500',\n",
       " 'longName': 'SPDR S&P 500 ETF Trust',\n",
       " 'firstTradeDateEpochUtc': 728317800,\n",
       " 'timeZoneFullName': 'America/New_York',\n",
       " 'timeZoneShortName': 'EST',\n",
       " 'uuid': 'e97de790-7e95-3762-8917-c59fcab3735e',\n",
       " 'messageBoardId': 'finmb_6160262',\n",
       " 'gmtOffSetMilliseconds': -18000000,\n",
       " 'trailingPegRatio': None}"
      ]
     },
     "execution_count": 25,
     "metadata": {},
     "output_type": "execute_result"
    }
   ],
   "source": [
    "spy.info"
   ]
  },
  {
   "cell_type": "code",
   "execution_count": 26,
   "id": "2d3bf8e6-06af-4cc3-9214-5252a10ac9d6",
   "metadata": {},
   "outputs": [
    {
     "data": {
      "text/plain": [
       "'The Trust seeks to achieve its investment objective by holding a portfolio of the common stocks that are included in the index (the “Portfolio”), with the weight of each stock in the Portfolio substantially corresponding to the weight of such stock in the index.'"
      ]
     },
     "execution_count": 26,
     "metadata": {},
     "output_type": "execute_result"
    }
   ],
   "source": [
    "data.description"
   ]
  },
  {
   "cell_type": "code",
   "execution_count": 27,
   "id": "60bed881-e83e-464f-bf73-78689cfb0abf",
   "metadata": {},
   "outputs": [
    {
     "data": {
      "text/plain": [
       "{'categoryName': 'Large Blend',\n",
       " 'family': 'SPDR State Street Global Advisors',\n",
       " 'legalType': 'Exchange Traded Fund'}"
      ]
     },
     "execution_count": 27,
     "metadata": {},
     "output_type": "execute_result"
    }
   ],
   "source": [
    "data.fund_overview"
   ]
  },
  {
   "cell_type": "code",
   "execution_count": 28,
   "id": "1cf71fe6-d3cf-483c-9f9b-6833496f0de4",
   "metadata": {},
   "outputs": [
    {
     "data": {
      "text/html": [
       "<div>\n",
       "<style scoped>\n",
       "    .dataframe tbody tr th:only-of-type {\n",
       "        vertical-align: middle;\n",
       "    }\n",
       "\n",
       "    .dataframe tbody tr th {\n",
       "        vertical-align: top;\n",
       "    }\n",
       "\n",
       "    .dataframe thead th {\n",
       "        text-align: right;\n",
       "    }\n",
       "</style>\n",
       "<table border=\"1\" class=\"dataframe\">\n",
       "  <thead>\n",
       "    <tr style=\"text-align: right;\">\n",
       "      <th></th>\n",
       "      <th>SPY</th>\n",
       "      <th>Category Average</th>\n",
       "    </tr>\n",
       "    <tr>\n",
       "      <th>Attributes</th>\n",
       "      <th></th>\n",
       "      <th></th>\n",
       "    </tr>\n",
       "  </thead>\n",
       "  <tbody>\n",
       "    <tr>\n",
       "      <th>Annual Report Expense Ratio</th>\n",
       "      <td>0.000945</td>\n",
       "      <td>0.007655</td>\n",
       "    </tr>\n",
       "    <tr>\n",
       "      <th>Annual Holdings Turnover</th>\n",
       "      <td>0.030000</td>\n",
       "      <td>0.467500</td>\n",
       "    </tr>\n",
       "    <tr>\n",
       "      <th>Total Net Assets</th>\n",
       "      <td>344616.440000</td>\n",
       "      <td>344616.440000</td>\n",
       "    </tr>\n",
       "  </tbody>\n",
       "</table>\n",
       "</div>"
      ],
      "text/plain": [
       "                                       SPY  Category Average\n",
       "Attributes                                                  \n",
       "Annual Report Expense Ratio       0.000945          0.007655\n",
       "Annual Holdings Turnover          0.030000          0.467500\n",
       "Total Net Assets             344616.440000     344616.440000"
      ]
     },
     "execution_count": 28,
     "metadata": {},
     "output_type": "execute_result"
    }
   ],
   "source": [
    "data.fund_operations"
   ]
  },
  {
   "cell_type": "code",
   "execution_count": 29,
   "id": "ee9ba8ea-8955-4348-8690-028dc33ef376",
   "metadata": {},
   "outputs": [
    {
     "data": {
      "text/plain": [
       "{'cashPosition': 0.0015,\n",
       " 'stockPosition': 0.9985,\n",
       " 'bondPosition': 0.0,\n",
       " 'preferredPosition': 0.0,\n",
       " 'convertiblePosition': 0.0,\n",
       " 'otherPosition': 0.0}"
      ]
     },
     "execution_count": 29,
     "metadata": {},
     "output_type": "execute_result"
    }
   ],
   "source": [
    "data.asset_classes"
   ]
  },
  {
   "cell_type": "code",
   "execution_count": 30,
   "id": "357dcb08-6c8d-4461-aa2f-8435dafea937",
   "metadata": {},
   "outputs": [
    {
     "data": {
      "text/html": [
       "<div>\n",
       "<style scoped>\n",
       "    .dataframe tbody tr th:only-of-type {\n",
       "        vertical-align: middle;\n",
       "    }\n",
       "\n",
       "    .dataframe tbody tr th {\n",
       "        vertical-align: top;\n",
       "    }\n",
       "\n",
       "    .dataframe thead th {\n",
       "        text-align: right;\n",
       "    }\n",
       "</style>\n",
       "<table border=\"1\" class=\"dataframe\">\n",
       "  <thead>\n",
       "    <tr style=\"text-align: right;\">\n",
       "      <th></th>\n",
       "      <th>Name</th>\n",
       "      <th>Holding Percent</th>\n",
       "    </tr>\n",
       "    <tr>\n",
       "      <th>Symbol</th>\n",
       "      <th></th>\n",
       "      <th></th>\n",
       "    </tr>\n",
       "  </thead>\n",
       "  <tbody>\n",
       "    <tr>\n",
       "      <th>AAPL</th>\n",
       "      <td>Apple Inc</td>\n",
       "      <td>0.070607</td>\n",
       "    </tr>\n",
       "    <tr>\n",
       "      <th>NVDA</th>\n",
       "      <td>NVIDIA Corp</td>\n",
       "      <td>0.066547</td>\n",
       "    </tr>\n",
       "    <tr>\n",
       "      <th>MSFT</th>\n",
       "      <td>Microsoft Corp</td>\n",
       "      <td>0.061590</td>\n",
       "    </tr>\n",
       "    <tr>\n",
       "      <th>AMZN</th>\n",
       "      <td>Amazon.com Inc</td>\n",
       "      <td>0.037997</td>\n",
       "    </tr>\n",
       "    <tr>\n",
       "      <th>META</th>\n",
       "      <td>Meta Platforms Inc Class A</td>\n",
       "      <td>0.024550</td>\n",
       "    </tr>\n",
       "    <tr>\n",
       "      <th>GOOGL</th>\n",
       "      <td>Alphabet Inc Class A</td>\n",
       "      <td>0.019368</td>\n",
       "    </tr>\n",
       "    <tr>\n",
       "      <th>TSLA</th>\n",
       "      <td>Tesla Inc</td>\n",
       "      <td>0.018738</td>\n",
       "    </tr>\n",
       "    <tr>\n",
       "      <th>BRK-B</th>\n",
       "      <td>Berkshire Hathaway Inc Class B</td>\n",
       "      <td>0.017311</td>\n",
       "    </tr>\n",
       "    <tr>\n",
       "      <th>GOOG</th>\n",
       "      <td>Alphabet Inc Class C</td>\n",
       "      <td>0.016022</td>\n",
       "    </tr>\n",
       "    <tr>\n",
       "      <th>AVGO</th>\n",
       "      <td>Broadcom Inc</td>\n",
       "      <td>0.014761</td>\n",
       "    </tr>\n",
       "  </tbody>\n",
       "</table>\n",
       "</div>"
      ],
      "text/plain": [
       "                                  Name  Holding Percent\n",
       "Symbol                                                 \n",
       "AAPL                         Apple Inc         0.070607\n",
       "NVDA                       NVIDIA Corp         0.066547\n",
       "MSFT                    Microsoft Corp         0.061590\n",
       "AMZN                    Amazon.com Inc         0.037997\n",
       "META        Meta Platforms Inc Class A         0.024550\n",
       "GOOGL             Alphabet Inc Class A         0.019368\n",
       "TSLA                         Tesla Inc         0.018738\n",
       "BRK-B   Berkshire Hathaway Inc Class B         0.017311\n",
       "GOOG              Alphabet Inc Class C         0.016022\n",
       "AVGO                      Broadcom Inc         0.014761"
      ]
     },
     "execution_count": 30,
     "metadata": {},
     "output_type": "execute_result"
    }
   ],
   "source": [
    "data.top_holdings"
   ]
  },
  {
   "cell_type": "code",
   "execution_count": 31,
   "id": "9ca1f559-3169-40c2-9a5a-3c8ed79439d8",
   "metadata": {},
   "outputs": [
    {
     "data": {
      "text/html": [
       "<div>\n",
       "<style scoped>\n",
       "    .dataframe tbody tr th:only-of-type {\n",
       "        vertical-align: middle;\n",
       "    }\n",
       "\n",
       "    .dataframe tbody tr th {\n",
       "        vertical-align: top;\n",
       "    }\n",
       "\n",
       "    .dataframe thead th {\n",
       "        text-align: right;\n",
       "    }\n",
       "</style>\n",
       "<table border=\"1\" class=\"dataframe\">\n",
       "  <thead>\n",
       "    <tr style=\"text-align: right;\">\n",
       "      <th></th>\n",
       "      <th>SPY</th>\n",
       "      <th>Category Average</th>\n",
       "    </tr>\n",
       "    <tr>\n",
       "      <th>Average</th>\n",
       "      <th></th>\n",
       "      <th></th>\n",
       "    </tr>\n",
       "  </thead>\n",
       "  <tbody>\n",
       "    <tr>\n",
       "      <th>Price/Earnings</th>\n",
       "      <td>0.03579</td>\n",
       "      <td>&lt;NA&gt;</td>\n",
       "    </tr>\n",
       "    <tr>\n",
       "      <th>Price/Book</th>\n",
       "      <td>0.20522</td>\n",
       "      <td>&lt;NA&gt;</td>\n",
       "    </tr>\n",
       "    <tr>\n",
       "      <th>Price/Sales</th>\n",
       "      <td>0.3085</td>\n",
       "      <td>&lt;NA&gt;</td>\n",
       "    </tr>\n",
       "    <tr>\n",
       "      <th>Price/Cashflow</th>\n",
       "      <td>0.0518</td>\n",
       "      <td>&lt;NA&gt;</td>\n",
       "    </tr>\n",
       "    <tr>\n",
       "      <th>Median Market Cap</th>\n",
       "      <td>&lt;NA&gt;</td>\n",
       "      <td>&lt;NA&gt;</td>\n",
       "    </tr>\n",
       "    <tr>\n",
       "      <th>3 Year Earnings Growth</th>\n",
       "      <td>&lt;NA&gt;</td>\n",
       "      <td>&lt;NA&gt;</td>\n",
       "    </tr>\n",
       "  </tbody>\n",
       "</table>\n",
       "</div>"
      ],
      "text/plain": [
       "                            SPY Category Average\n",
       "Average                                         \n",
       "Price/Earnings          0.03579             <NA>\n",
       "Price/Book              0.20522             <NA>\n",
       "Price/Sales              0.3085             <NA>\n",
       "Price/Cashflow           0.0518             <NA>\n",
       "Median Market Cap          <NA>             <NA>\n",
       "3 Year Earnings Growth     <NA>             <NA>"
      ]
     },
     "execution_count": 31,
     "metadata": {},
     "output_type": "execute_result"
    }
   ],
   "source": [
    "data.equity_holdings"
   ]
  },
  {
   "cell_type": "code",
   "execution_count": 32,
   "id": "e6056392-0f26-472c-96ed-fb90bef6e760",
   "metadata": {},
   "outputs": [
    {
     "data": {
      "text/html": [
       "<div>\n",
       "<style scoped>\n",
       "    .dataframe tbody tr th:only-of-type {\n",
       "        vertical-align: middle;\n",
       "    }\n",
       "\n",
       "    .dataframe tbody tr th {\n",
       "        vertical-align: top;\n",
       "    }\n",
       "\n",
       "    .dataframe thead th {\n",
       "        text-align: right;\n",
       "    }\n",
       "</style>\n",
       "<table border=\"1\" class=\"dataframe\">\n",
       "  <thead>\n",
       "    <tr style=\"text-align: right;\">\n",
       "      <th></th>\n",
       "      <th>SPY</th>\n",
       "      <th>Category Average</th>\n",
       "    </tr>\n",
       "    <tr>\n",
       "      <th>Average</th>\n",
       "      <th></th>\n",
       "      <th></th>\n",
       "    </tr>\n",
       "  </thead>\n",
       "  <tbody>\n",
       "    <tr>\n",
       "      <th>Duration</th>\n",
       "      <td>&lt;NA&gt;</td>\n",
       "      <td>&lt;NA&gt;</td>\n",
       "    </tr>\n",
       "    <tr>\n",
       "      <th>Maturity</th>\n",
       "      <td>&lt;NA&gt;</td>\n",
       "      <td>&lt;NA&gt;</td>\n",
       "    </tr>\n",
       "    <tr>\n",
       "      <th>Credit Quality</th>\n",
       "      <td>&lt;NA&gt;</td>\n",
       "      <td>&lt;NA&gt;</td>\n",
       "    </tr>\n",
       "  </tbody>\n",
       "</table>\n",
       "</div>"
      ],
      "text/plain": [
       "                 SPY Category Average\n",
       "Average                              \n",
       "Duration        <NA>             <NA>\n",
       "Maturity        <NA>             <NA>\n",
       "Credit Quality  <NA>             <NA>"
      ]
     },
     "execution_count": 32,
     "metadata": {},
     "output_type": "execute_result"
    }
   ],
   "source": [
    "data.bond_holdings"
   ]
  },
  {
   "cell_type": "code",
   "execution_count": 33,
   "id": "062d534e-1520-4bca-bb43-4e92296702be",
   "metadata": {},
   "outputs": [
    {
     "data": {
      "text/plain": [
       "{'us_government': 0.0}"
      ]
     },
     "execution_count": 33,
     "metadata": {},
     "output_type": "execute_result"
    }
   ],
   "source": [
    "data.bond_ratings"
   ]
  },
  {
   "cell_type": "code",
   "execution_count": 34,
   "id": "b18d7c67-cda7-4efc-8ca7-467d88859f71",
   "metadata": {},
   "outputs": [
    {
     "data": {
      "text/plain": [
       "{'realestate': 0.0224,\n",
       " 'consumer_cyclical': 0.1091,\n",
       " 'basic_materials': 0.0185,\n",
       " 'consumer_defensive': 0.056900002,\n",
       " 'technology': 0.32630002,\n",
       " 'communication_services': 0.0888,\n",
       " 'financial_services': 0.1344,\n",
       " 'utilities': 0.026400002,\n",
       " 'industrials': 0.0769,\n",
       " 'energy': 0.0344,\n",
       " 'healthcare': 0.1058}"
      ]
     },
     "execution_count": 34,
     "metadata": {},
     "output_type": "execute_result"
    }
   ],
   "source": [
    "data.sector_weightings"
   ]
  }
 ],
 "metadata": {
  "kernelspec": {
   "display_name": "Python 3 (ipykernel)",
   "language": "python",
   "name": "python3"
  },
  "language_info": {
   "codemirror_mode": {
    "name": "ipython",
    "version": 3
   },
   "file_extension": ".py",
   "mimetype": "text/x-python",
   "name": "python",
   "nbconvert_exporter": "python",
   "pygments_lexer": "ipython3",
   "version": "3.11.0"
  }
 },
 "nbformat": 4,
 "nbformat_minor": 5
}
